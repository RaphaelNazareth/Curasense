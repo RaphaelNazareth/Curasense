{
  "cells": [
    {
      "cell_type": "markdown",
      "metadata": {
        "id": "stDW8noW_Fm5"
      },
      "source": [
        "# **Import Library**"
      ]
    },
    {
      "cell_type": "code",
      "execution_count": null,
      "metadata": {
        "colab": {
          "base_uri": "https://localhost:8080/"
        },
        "id": "Al0aBkUEQ0LG",
        "outputId": "95cbde00-848a-444b-8ff5-69b8d626637d"
      },
      "outputs": [
        {
          "output_type": "stream",
          "name": "stderr",
          "text": [
            "[nltk_data] Downloading package stopwords to /root/nltk_data...\n",
            "[nltk_data]   Unzipping corpora/stopwords.zip.\n"
          ]
        },
        {
          "output_type": "execute_result",
          "data": {
            "text/plain": [
              "True"
            ]
          },
          "metadata": {},
          "execution_count": 2
        }
      ],
      "source": [
        "import pandas as pd\n",
        "import nltk\n",
        "nltk.download('stopwords')\n"
      ]
    },
    {
      "cell_type": "markdown",
      "source": [
        "# **DataLoad**"
      ],
      "metadata": {
        "id": "Wbs1HqACpsU9"
      }
    },
    {
      "cell_type": "code",
      "execution_count": null,
      "metadata": {
        "id": "DjplaZlcSaGb",
        "colab": {
          "base_uri": "https://localhost:8080/"
        },
        "outputId": "1f2f221b-7358-4fdb-9ef5-62d3a3609780"
      },
      "outputs": [
        {
          "output_type": "stream",
          "name": "stdout",
          "text": [
            "Mounted at /content/drive\n"
          ]
        }
      ],
      "source": [
        "from google.colab import drive\n",
        "drive.mount('/content/drive')\n",
        "import pandas as pd\n",
        "#pd.read_csv('/content/Symptom2Disease.csv')\n",
        "import csv\n",
        "data = pd.read_csv('/content/drive/MyDrive/Symptom2Disease.csv', delimiter=';')\n",
        "# karena kita split filenya pake , jadi harus dituliskan delimiter ,"
      ]
    },
    {
      "cell_type": "code",
      "execution_count": null,
      "metadata": {
        "id": "uebXK4A6Afka",
        "colab": {
          "base_uri": "https://localhost:8080/"
        },
        "outputId": "417dbcc9-dfef-4b4f-9ddb-aeb8a8088a68"
      },
      "outputs": [
        {
          "output_type": "stream",
          "name": "stdout",
          "text": [
            "label\n",
            "Psoriasis                          50\n",
            "Varicose Veins                     50\n",
            "peptic ulcer disease               50\n",
            "drug reaction                      50\n",
            "gastroesophageal reflux disease    50\n",
            "allergy                            50\n",
            "urinary tract infection            50\n",
            "Malaria                            50\n",
            "Jaundice                           50\n",
            "Cervical spondylosis               50\n",
            "Migraine                           50\n",
            "Hypertension                       50\n",
            "Bronchial Asthma                   50\n",
            "Acne                               50\n",
            "Arthritis                          50\n",
            "Dimorphic Hemorrhoids              50\n",
            "Pneumonia                          50\n",
            "Common Cold                        50\n",
            "Fungal infection                   50\n",
            "Dengue                             50\n",
            "Impetigo                           50\n",
            "Chicken pox                        50\n",
            "Typhoid                            50\n",
            "diabetes                           50\n",
            "Name: count, dtype: int64\n"
          ]
        }
      ],
      "source": [
        "disease_counts = data['label'].value_counts()\n",
        "print(disease_counts)"
      ]
    },
    {
      "cell_type": "markdown",
      "metadata": {
        "id": "PG8pCckG9-px"
      },
      "source": [
        "\n",
        "# Data Preprocessing"
      ]
    },
    {
      "cell_type": "code",
      "source": [
        "import pandas as pd\n",
        "import nltk\n",
        "from sklearn.feature_extraction.text import TfidfVectorizer\n",
        "\n",
        "# Step 1: Case folding (convert text to lowercase)\n",
        "def case_folding(text_series):\n",
        "    return text_series.str.lower()\n",
        "\n",
        "data_revised = data.copy()  # Create a copy of the original data for revisions\n",
        "data_revised['text'] = case_folding(data_revised['text'])  # Assuming the column to clean is 'text'\n",
        "\n",
        "# Step 2: Remove punctuation\n",
        "punctuations = '''!()-[]{};:'\"\\,<>./?@#$%^&*_~'''\n",
        "\n",
        "def remove_punctuation(text):\n",
        "    return ''.join([char for char in text if char not in punctuations])\n",
        "\n",
        "data_revised['text'] = data_revised['text'].apply(remove_punctuation)\n",
        "\n",
        "# Step 3: Remove stopwords\n",
        "nltk.download('punkt')\n",
        "nltk.download('stopwords')\n",
        "\n",
        "from nltk.corpus import stopwords\n",
        "\n",
        "stop_words = set(stopwords.words('english'))\n",
        "custom_stopwords = {'ive', 'lot', 'im'}\n",
        "stop_words = stop_words.union(custom_stopwords)\n",
        "\n",
        "data_revised['text'] = data_revised['text'].apply(lambda sentence: ' '.join(\n",
        "    [word for word in nltk.word_tokenize(sentence) if word.lower() not in stop_words]\n",
        "))\n",
        "\n",
        "# Step 4: Tokenization (convert sentence to a list of words)\n",
        "data_revised['text'] = data_revised['text'].apply(nltk.word_tokenize)\n",
        "\n",
        "# Step 5: Lemmatization (reduce words to their base form)\n",
        "nltk.download('wordnet')\n",
        "from nltk.stem import WordNetLemmatizer\n",
        "\n",
        "lemmatizer = WordNetLemmatizer()\n",
        "\n",
        "data_revised['text'] = data_revised['text'].apply(lambda sentence: ' '.join(\n",
        "    [lemmatizer.lemmatize(word) for word in sentence]\n",
        "))\n",
        "\n",
        "# Step 6: Apply TF-IDF\n",
        "tfidf_vectorizer = TfidfVectorizer()\n",
        "data_tfidf = tfidf_vectorizer.fit_transform(data_revised['text'])\n",
        "\n",
        "# Output the TF-IDF transformed data (as sparse matrix)\n",
        "print(data_tfidf)\n",
        "\n"
      ],
      "metadata": {
        "colab": {
          "base_uri": "https://localhost:8080/"
        },
        "id": "CyIBFEL9vY1z",
        "outputId": "3357b03a-e472-470c-fcdb-7b6f7efacef5"
      },
      "execution_count": null,
      "outputs": [
        {
          "output_type": "stream",
          "name": "stderr",
          "text": [
            "[nltk_data] Downloading package punkt to /root/nltk_data...\n",
            "[nltk_data]   Unzipping tokenizers/punkt.zip.\n",
            "[nltk_data] Downloading package stopwords to /root/nltk_data...\n",
            "[nltk_data]   Unzipping corpora/stopwords.zip.\n",
            "[nltk_data] Downloading package wordnet to /root/nltk_data...\n"
          ]
        },
        {
          "output_type": "stream",
          "name": "stdout",
          "text": [
            "  (0, 418)\t0.16222031904004106\n",
            "  (0, 1064)\t0.14643512882484233\n",
            "  (0, 936)\t0.16827764705187032\n",
            "  (0, 73)\t0.22194960590767734\n",
            "  (0, 679)\t0.2195975751886655\n",
            "  (0, 1225)\t0.3915553711183681\n",
            "  (0, 856)\t0.2975627979775866\n",
            "  (0, 1327)\t0.3183929247545449\n",
            "  (0, 955)\t0.1954080059096226\n",
            "  (0, 651)\t0.22695846285382387\n",
            "  (0, 261)\t0.30705404473495823\n",
            "  (0, 362)\t0.23743212898507812\n",
            "  (0, 1002)\t0.40835625422626043\n",
            "  (0, 857)\t0.2758631632885976\n",
            "  (1, 1064)\t0.1277461782960467\n",
            "  (1, 862)\t0.571222478444561\n",
            "  (1, 394)\t0.2325518807737005\n",
            "  (1, 660)\t0.2856112392222805\n",
            "  (1, 373)\t0.2815332720455337\n",
            "  (1, 1001)\t0.306268628886372\n",
            "  (1, 831)\t0.20622783511588277\n",
            "  (1, 9)\t0.22963980867757766\n",
            "  (1, 166)\t0.2482174241988215\n",
            "  (1, 1119)\t0.35623932098350314\n",
            "  (1, 1021)\t0.2547302010433578\n",
            "  :\t:\n",
            "  (1198, 620)\t0.42100004364369376\n",
            "  (1198, 1238)\t0.16029036010734488\n",
            "  (1198, 153)\t0.16143850520347175\n",
            "  (1198, 588)\t0.2675802378893475\n",
            "  (1198, 1159)\t0.25535985369923264\n",
            "  (1198, 1283)\t0.2753250356488096\n",
            "  (1198, 1108)\t0.49176197462515664\n",
            "  (1198, 1362)\t0.2675802378893475\n",
            "  (1198, 1229)\t0.28480390203546396\n",
            "  (1198, 841)\t0.2970242862255788\n",
            "  (1199, 362)\t0.22301965622779762\n",
            "  (1199, 526)\t0.16933801458850212\n",
            "  (1199, 620)\t0.2718335464026562\n",
            "  (1199, 566)\t0.29906601489718465\n",
            "  (1199, 348)\t0.24147712753116296\n",
            "  (1199, 11)\t0.19578718773326914\n",
            "  (1199, 1015)\t0.2388007014934998\n",
            "  (1199, 240)\t0.2503922419179579\n",
            "  (1199, 822)\t0.21484418251514203\n",
            "  (1199, 255)\t0.17640064976519212\n",
            "  (1199, 1198)\t0.17897248882691263\n",
            "  (1199, 1293)\t0.31752348620055004\n",
            "  (1199, 1079)\t0.3233031270820394\n",
            "  (1199, 852)\t0.31752348620055004\n",
            "  (1199, 118)\t0.35554666553524356\n"
          ]
        }
      ]
    },
    {
      "cell_type": "markdown",
      "source": [
        "# **Data Training Test Split**"
      ],
      "metadata": {
        "id": "ckE0E0AwvsCY"
      }
    },
    {
      "cell_type": "code",
      "source": [
        "from sklearn.model_selection import train_test_split\n",
        "\n",
        "# X should be your TF-IDF matrix (features), and y should be your labels (target)\n",
        "X = data_tfidf  # TF-IDF matrix (already preprocessed)\n",
        "y = data['label']  # Assuming your original dataset has a 'label' column\n",
        "\n",
        "# Split the data into training and testing sets (stratified by label for balanced classes)\n",
        "X_train, X_test, y_train, y_test = train_test_split(X, y, test_size=0.2, stratify=y, random_state=42)\n",
        "\n",
        "# Check the sizes of the split datasets\n",
        "print(f\"Training set size: {X_train.shape[0]}\")\n",
        "print(f\"Testing set size: {X_test.shape[0]}\")\n",
        "\n",
        "# Check label distribution in the training and testing sets\n",
        "train_label_counts = y_train.value_counts()\n",
        "print(f\"\\nLabel distribution in the training set:\\n{train_label_counts}\")\n",
        "\n",
        "test_label_counts = y_test.value_counts()\n",
        "print(f\"\\nLabel distribution in the testing set:\\n{test_label_counts}\")\n"
      ],
      "metadata": {
        "colab": {
          "base_uri": "https://localhost:8080/"
        },
        "id": "4qLkz-IYvrw6",
        "outputId": "b66e40cd-3402-42a0-9e04-d7533920e386"
      },
      "execution_count": null,
      "outputs": [
        {
          "output_type": "stream",
          "name": "stdout",
          "text": [
            "Training set size: 960\n",
            "Testing set size: 240\n",
            "\n",
            "Label distribution in the training set:\n",
            "label\n",
            "Chicken pox                        40\n",
            "Common Cold                        40\n",
            "Migraine                           40\n",
            "Psoriasis                          40\n",
            "Typhoid                            40\n",
            "Jaundice                           40\n",
            "Fungal infection                   40\n",
            "Varicose Veins                     40\n",
            "Bronchial Asthma                   40\n",
            "diabetes                           40\n",
            "Cervical spondylosis               40\n",
            "peptic ulcer disease               40\n",
            "Impetigo                           40\n",
            "urinary tract infection            40\n",
            "gastroesophageal reflux disease    40\n",
            "Acne                               40\n",
            "allergy                            40\n",
            "Hypertension                       40\n",
            "Arthritis                          40\n",
            "Pneumonia                          40\n",
            "Dengue                             40\n",
            "drug reaction                      40\n",
            "Dimorphic Hemorrhoids              40\n",
            "Malaria                            40\n",
            "Name: count, dtype: int64\n",
            "\n",
            "Label distribution in the testing set:\n",
            "label\n",
            "Pneumonia                          10\n",
            "Malaria                            10\n",
            "peptic ulcer disease               10\n",
            "Cervical spondylosis               10\n",
            "drug reaction                      10\n",
            "Fungal infection                   10\n",
            "Psoriasis                          10\n",
            "Bronchial Asthma                   10\n",
            "Varicose Veins                     10\n",
            "Typhoid                            10\n",
            "Migraine                           10\n",
            "Chicken pox                        10\n",
            "Hypertension                       10\n",
            "diabetes                           10\n",
            "Impetigo                           10\n",
            "Acne                               10\n",
            "Common Cold                        10\n",
            "allergy                            10\n",
            "urinary tract infection            10\n",
            "Jaundice                           10\n",
            "Arthritis                          10\n",
            "Dimorphic Hemorrhoids              10\n",
            "Dengue                             10\n",
            "gastroesophageal reflux disease    10\n",
            "Name: count, dtype: int64\n"
          ]
        }
      ]
    },
    {
      "cell_type": "markdown",
      "metadata": {
        "id": "FZ0VEktMCsf1"
      },
      "source": [
        "# **Machine learning model**"
      ]
    },
    {
      "cell_type": "markdown",
      "metadata": {
        "id": "yDeVuhBjxjjP"
      },
      "source": [
        "**Logistic Regression**"
      ]
    },
    {
      "cell_type": "code",
      "execution_count": null,
      "metadata": {
        "id": "j1cEqYjopFhY",
        "colab": {
          "base_uri": "https://localhost:8080/"
        },
        "outputId": "719d40cf-d3bf-48c0-83da-d54c128605af"
      },
      "outputs": [
        {
          "output_type": "stream",
          "name": "stdout",
          "text": [
            "Accuracy: 0.95\n",
            "                                 precision    recall  f1-score   support\n",
            "\n",
            "                           Acne       1.00      1.00      1.00        10\n",
            "                      Arthritis       1.00      1.00      1.00        10\n",
            "               Bronchial Asthma       1.00      1.00      1.00        10\n",
            "           Cervical spondylosis       0.91      1.00      0.95        10\n",
            "                    Chicken pox       0.90      0.90      0.90        10\n",
            "                    Common Cold       1.00      1.00      1.00        10\n",
            "                         Dengue       0.89      0.80      0.84        10\n",
            "          Dimorphic Hemorrhoids       1.00      1.00      1.00        10\n",
            "               Fungal infection       1.00      1.00      1.00        10\n",
            "                   Hypertension       1.00      1.00      1.00        10\n",
            "                       Impetigo       1.00      1.00      1.00        10\n",
            "                       Jaundice       1.00      1.00      1.00        10\n",
            "                        Malaria       1.00      1.00      1.00        10\n",
            "                       Migraine       1.00      0.90      0.95        10\n",
            "                      Pneumonia       0.91      1.00      0.95        10\n",
            "                      Psoriasis       1.00      1.00      1.00        10\n",
            "                        Typhoid       1.00      1.00      1.00        10\n",
            "                 Varicose Veins       1.00      1.00      1.00        10\n",
            "                        allergy       1.00      1.00      1.00        10\n",
            "                       diabetes       0.75      0.90      0.82        10\n",
            "                  drug reaction       0.86      0.60      0.71        10\n",
            "gastroesophageal reflux disease       0.77      1.00      0.87        10\n",
            "           peptic ulcer disease       1.00      0.80      0.89        10\n",
            "        urinary tract infection       1.00      1.00      1.00        10\n",
            "\n",
            "                       accuracy                           0.95       240\n",
            "                      macro avg       0.96      0.95      0.95       240\n",
            "                   weighted avg       0.96      0.95      0.95       240\n",
            "\n"
          ]
        }
      ],
      "source": [
        "from sklearn.feature_extraction.text import TfidfVectorizer\n",
        "from sklearn.linear_model import LogisticRegression\n",
        "from sklearn.model_selection import train_test_split\n",
        "from sklearn.metrics import accuracy_score, classification_report\n",
        "\n",
        "\n",
        "model = LogisticRegression()\n",
        "model.fit(X_train, y_train)\n",
        "\n",
        "y_pred = model.predict(X_test)\n",
        "\n",
        "accuracy = accuracy_score(y_test, y_pred)\n",
        "print(f\"Accuracy: {accuracy:.2f}\")\n",
        "\n",
        "print(classification_report(y_test, y_pred))\n",
        "\n"
      ]
    },
    {
      "cell_type": "code",
      "execution_count": null,
      "metadata": {
        "id": "opjUty2hqTB1",
        "colab": {
          "base_uri": "https://localhost:8080/"
        },
        "outputId": "483e4cb2-a8c0-4464-c2fc-9b9016bba416"
      },
      "outputs": [
        {
          "output_type": "stream",
          "name": "stdout",
          "text": [
            "Random Forest Accuracy: 0.93\n",
            "                                 precision    recall  f1-score   support\n",
            "\n",
            "                           Acne       1.00      1.00      1.00        10\n",
            "                      Arthritis       1.00      1.00      1.00        10\n",
            "               Bronchial Asthma       1.00      1.00      1.00        10\n",
            "           Cervical spondylosis       1.00      1.00      1.00        10\n",
            "                    Chicken pox       0.70      0.70      0.70        10\n",
            "                    Common Cold       1.00      1.00      1.00        10\n",
            "                         Dengue       0.88      0.70      0.78        10\n",
            "          Dimorphic Hemorrhoids       1.00      1.00      1.00        10\n",
            "               Fungal infection       0.91      1.00      0.95        10\n",
            "                   Hypertension       1.00      1.00      1.00        10\n",
            "                       Impetigo       1.00      1.00      1.00        10\n",
            "                       Jaundice       1.00      1.00      1.00        10\n",
            "                        Malaria       0.91      1.00      0.95        10\n",
            "                       Migraine       1.00      1.00      1.00        10\n",
            "                      Pneumonia       0.71      1.00      0.83        10\n",
            "                      Psoriasis       1.00      0.80      0.89        10\n",
            "                        Typhoid       0.80      0.80      0.80        10\n",
            "                 Varicose Veins       1.00      1.00      1.00        10\n",
            "                        allergy       1.00      1.00      1.00        10\n",
            "                       diabetes       1.00      0.90      0.95        10\n",
            "                  drug reaction       0.86      0.60      0.71        10\n",
            "gastroesophageal reflux disease       0.91      1.00      0.95        10\n",
            "           peptic ulcer disease       0.82      0.90      0.86        10\n",
            "        urinary tract infection       1.00      1.00      1.00        10\n",
            "\n",
            "                       accuracy                           0.93       240\n",
            "                      macro avg       0.94      0.93      0.93       240\n",
            "                   weighted avg       0.94      0.93      0.93       240\n",
            "\n"
          ]
        }
      ],
      "source": [
        "from sklearn.ensemble import RandomForestClassifier\n",
        "from sklearn.metrics import accuracy_score, classification_report\n",
        "\n",
        "rf_model = RandomForestClassifier(n_estimators=100, random_state=42)\n",
        "rf_model.fit(X_train, y_train)\n",
        "\n",
        "y_pred_rf = rf_model.predict(X_test)\n",
        "\n",
        "# Step 4: Evaluate the Random Forest model performance\n",
        "rf_accuracy = accuracy_score(y_test, y_pred_rf)\n",
        "print(f\"Random Forest Accuracy: {rf_accuracy:.2f}\")\n",
        "\n",
        "# Step 5: Print a detailed classification report for Random Forest predictions\n",
        "print(classification_report(y_test, y_pred_rf))\n"
      ]
    },
    {
      "cell_type": "markdown",
      "metadata": {
        "id": "kRdgXmhVUaDN"
      },
      "source": [
        "# **Decision Tree**"
      ]
    },
    {
      "cell_type": "code",
      "execution_count": null,
      "metadata": {
        "id": "95vnKZbtUZb-",
        "colab": {
          "base_uri": "https://localhost:8080/"
        },
        "outputId": "5fe7167a-a683-408f-d21f-df0e73240c9b"
      },
      "outputs": [
        {
          "output_type": "stream",
          "name": "stdout",
          "text": [
            "Decision Tree Accuracy: 0.82\n",
            "                                 precision    recall  f1-score   support\n",
            "\n",
            "                           Acne       1.00      1.00      1.00        10\n",
            "                      Arthritis       1.00      1.00      1.00        10\n",
            "               Bronchial Asthma       1.00      0.90      0.95        10\n",
            "           Cervical spondylosis       1.00      1.00      1.00        10\n",
            "                    Chicken pox       0.39      0.70      0.50        10\n",
            "                    Common Cold       0.90      0.90      0.90        10\n",
            "                         Dengue       0.71      0.50      0.59        10\n",
            "          Dimorphic Hemorrhoids       1.00      1.00      1.00        10\n",
            "               Fungal infection       0.82      0.90      0.86        10\n",
            "                   Hypertension       1.00      0.90      0.95        10\n",
            "                       Impetigo       1.00      0.80      0.89        10\n",
            "                       Jaundice       1.00      0.80      0.89        10\n",
            "                        Malaria       0.90      0.90      0.90        10\n",
            "                       Migraine       1.00      1.00      1.00        10\n",
            "                      Pneumonia       0.71      1.00      0.83        10\n",
            "                      Psoriasis       0.71      0.50      0.59        10\n",
            "                        Typhoid       0.86      0.60      0.71        10\n",
            "                 Varicose Veins       1.00      1.00      1.00        10\n",
            "                        allergy       1.00      0.60      0.75        10\n",
            "                       diabetes       0.64      0.70      0.67        10\n",
            "                  drug reaction       0.30      0.30      0.30        10\n",
            "gastroesophageal reflux disease       0.82      0.90      0.86        10\n",
            "           peptic ulcer disease       0.80      0.80      0.80        10\n",
            "        urinary tract infection       0.64      0.90      0.75        10\n",
            "\n",
            "                       accuracy                           0.82       240\n",
            "                      macro avg       0.84      0.82      0.82       240\n",
            "                   weighted avg       0.84      0.82      0.82       240\n",
            "\n"
          ]
        }
      ],
      "source": [
        "from sklearn.tree import DecisionTreeClassifier\n",
        "from sklearn.metrics import accuracy_score, classification_report\n",
        "\n",
        "dt_model = DecisionTreeClassifier(random_state=42)\n",
        "dt_model.fit(X_train, y_train)\n",
        "\n",
        "y_pred_dt = dt_model.predict(X_test)\n",
        "\n",
        "dt_accuracy = accuracy_score(y_test, y_pred_dt)\n",
        "print(f\"Decision Tree Accuracy: {dt_accuracy:.2f}\")\n",
        "\n",
        "print(classification_report(y_test, y_pred_dt))\n"
      ]
    },
    {
      "cell_type": "markdown",
      "metadata": {
        "id": "DFPnPcoIVSNn"
      },
      "source": [
        "# **SVM(Support Vector Machine)**"
      ]
    },
    {
      "cell_type": "code",
      "execution_count": null,
      "metadata": {
        "id": "3Mq8tUpHUWA8",
        "colab": {
          "base_uri": "https://localhost:8080/"
        },
        "outputId": "29152552-1b99-4c9f-eaf5-0db2dd51591b"
      },
      "outputs": [
        {
          "output_type": "stream",
          "name": "stdout",
          "text": [
            "SVM Accuracy: 0.95\n",
            "                                 precision    recall  f1-score   support\n",
            "\n",
            "                           Acne       1.00      1.00      1.00        10\n",
            "                      Arthritis       1.00      1.00      1.00        10\n",
            "               Bronchial Asthma       1.00      1.00      1.00        10\n",
            "           Cervical spondylosis       1.00      1.00      1.00        10\n",
            "                    Chicken pox       0.82      0.90      0.86        10\n",
            "                    Common Cold       1.00      1.00      1.00        10\n",
            "                         Dengue       0.89      0.80      0.84        10\n",
            "          Dimorphic Hemorrhoids       1.00      1.00      1.00        10\n",
            "               Fungal infection       1.00      1.00      1.00        10\n",
            "                   Hypertension       1.00      1.00      1.00        10\n",
            "                       Impetigo       1.00      1.00      1.00        10\n",
            "                       Jaundice       1.00      1.00      1.00        10\n",
            "                        Malaria       1.00      1.00      1.00        10\n",
            "                       Migraine       1.00      0.90      0.95        10\n",
            "                      Pneumonia       1.00      1.00      1.00        10\n",
            "                      Psoriasis       1.00      1.00      1.00        10\n",
            "                        Typhoid       1.00      0.90      0.95        10\n",
            "                 Varicose Veins       1.00      1.00      1.00        10\n",
            "                        allergy       1.00      1.00      1.00        10\n",
            "                       diabetes       0.64      0.90      0.75        10\n",
            "                  drug reaction       0.86      0.60      0.71        10\n",
            "gastroesophageal reflux disease       0.91      1.00      0.95        10\n",
            "           peptic ulcer disease       0.90      0.90      0.90        10\n",
            "        urinary tract infection       1.00      1.00      1.00        10\n",
            "\n",
            "                       accuracy                           0.95       240\n",
            "                      macro avg       0.96      0.95      0.95       240\n",
            "                   weighted avg       0.96      0.95      0.95       240\n",
            "\n"
          ]
        }
      ],
      "source": [
        "from sklearn.svm import SVC\n",
        "from sklearn.metrics import accuracy_score, classification_report\n",
        "\n",
        "svm_model = SVC(kernel='linear', random_state=42)  # You can choose different kernels, e.g., 'linear', 'rbf'\n",
        "svm_model.fit(X_train, y_train)  # Train the model on TF-IDF transformed training data\n",
        "\n",
        "# Step 3: Make predictions on the test data using the trained SVM model\n",
        "y_pred_svm = svm_model.predict(X_test)\n",
        "\n",
        "# Step 4: Evaluate the SVM model performance\n",
        "svm_accuracy = accuracy_score(y_test, y_pred_svm)\n",
        "print(f\"SVM Accuracy: {svm_accuracy:.2f}\")\n",
        "\n",
        "# Step 5: Print a detailed classification report for SVM predictions\n",
        "print(classification_report(y_test, y_pred_svm))\n"
      ]
    },
    {
      "cell_type": "markdown",
      "metadata": {
        "id": "O9wUCU0iXH5s"
      },
      "source": [
        "# **KNN**"
      ]
    },
    {
      "cell_type": "code",
      "execution_count": null,
      "metadata": {
        "id": "OuQEM7UxUX0T",
        "colab": {
          "base_uri": "https://localhost:8080/"
        },
        "outputId": "a8175abf-6486-4cd4-c6be-66ce330305fb"
      },
      "outputs": [
        {
          "output_type": "stream",
          "name": "stdout",
          "text": [
            "KNN Accuracy: 0.93\n",
            "                                 precision    recall  f1-score   support\n",
            "\n",
            "                           Acne       0.91      1.00      0.95        10\n",
            "                      Arthritis       1.00      1.00      1.00        10\n",
            "               Bronchial Asthma       0.91      1.00      0.95        10\n",
            "           Cervical spondylosis       0.91      1.00      0.95        10\n",
            "                    Chicken pox       0.69      0.90      0.78        10\n",
            "                    Common Cold       1.00      1.00      1.00        10\n",
            "                         Dengue       0.86      0.60      0.71        10\n",
            "          Dimorphic Hemorrhoids       1.00      1.00      1.00        10\n",
            "               Fungal infection       1.00      1.00      1.00        10\n",
            "                   Hypertension       0.91      1.00      0.95        10\n",
            "                       Impetigo       1.00      1.00      1.00        10\n",
            "                       Jaundice       1.00      1.00      1.00        10\n",
            "                        Malaria       0.83      1.00      0.91        10\n",
            "                       Migraine       1.00      1.00      1.00        10\n",
            "                      Pneumonia       0.77      1.00      0.87        10\n",
            "                      Psoriasis       1.00      0.80      0.89        10\n",
            "                        Typhoid       1.00      1.00      1.00        10\n",
            "                 Varicose Veins       1.00      0.90      0.95        10\n",
            "                        allergy       1.00      0.60      0.75        10\n",
            "                       diabetes       0.83      1.00      0.91        10\n",
            "                  drug reaction       1.00      0.60      0.75        10\n",
            "gastroesophageal reflux disease       0.91      1.00      0.95        10\n",
            "           peptic ulcer disease       1.00      0.90      0.95        10\n",
            "        urinary tract infection       1.00      1.00      1.00        10\n",
            "\n",
            "                       accuracy                           0.93       240\n",
            "                      macro avg       0.94      0.93      0.93       240\n",
            "                   weighted avg       0.94      0.93      0.93       240\n",
            "\n"
          ]
        }
      ],
      "source": [
        "from sklearn.neighbors import KNeighborsClassifier\n",
        "from sklearn.metrics import accuracy_score, classification_report\n",
        "\n",
        "knn_model = KNeighborsClassifier(n_neighbors=5)\n",
        "knn_model.fit(X_train, y_train)\n",
        "\n",
        "# Step 3: Make predictions on the test data using the trained KNN model\n",
        "y_pred_knn = knn_model.predict(X_test)\n",
        "\n",
        "# Step 4: Evaluate the KNN model performance\n",
        "knn_accuracy = accuracy_score(y_test, y_pred_knn)\n",
        "print(f\"KNN Accuracy: {knn_accuracy:.2f}\")\n",
        "\n",
        "# Step 5: Print a detailed classification report for KNN predictions\n",
        "print(classification_report(y_test, y_pred_knn))\n"
      ]
    },
    {
      "cell_type": "code",
      "source": [
        "# Step 1: Define the preprocess_text function\n",
        "def preprocess_text(text):\n",
        "    # Example preprocessing (adjust this based on your training preprocessing)\n",
        "    text = text.lower()  # Convert to lowercase\n",
        "    tokens = word_tokenize(text)  # Tokenize the text\n",
        "    lemmatizer = WordNetLemmatizer()\n",
        "    tokens = [lemmatizer.lemmatize(token) for token in tokens]  # Lemmatize tokens\n",
        "    return ' '.join(tokens)  # Return preprocessed tex"
      ],
      "metadata": {
        "id": "naoshIt0oKKu"
      },
      "execution_count": null,
      "outputs": []
    },
    {
      "cell_type": "code",
      "source": [
        "# Import necessary libraries\n",
        "import numpy as np\n",
        "import matplotlib.pyplot as plt\n",
        "import seaborn as sns\n",
        "from sklearn.neighbors import KNeighborsClassifier\n",
        "from sklearn.metrics import accuracy_score, classification_report, confusion_matrix\n",
        "from nltk.tokenize import word_tokenize\n",
        "from nltk.stem import WordNetLemmatizer\n",
        "\n",
        "\n",
        "# Step 2: Train the KNN model\n",
        "knn_model = KNeighborsClassifier(n_neighbors=5)\n",
        "knn_model.fit(X_train, y_train)\n",
        "\n",
        "# Step 3: Make predictions on the test data\n",
        "y_pred_knn = knn_model.predict(X_test)\n",
        "\n",
        "# Step 4: Evaluate the KNN model performance\n",
        "knn_accuracy = accuracy_score(y_test, y_pred_knn)\n",
        "print(f\"KNN Accuracy: {knn_accuracy:.2f}\")\n",
        "\n",
        "# Print a detailed classification report\n",
        "print(classification_report(y_test, y_pred_knn))\n",
        "\n",
        "# Step 5: Create the confusion matrix\n",
        "conf_matrix = confusion_matrix(y_test, y_pred_knn)\n",
        "\n",
        "# Step 6: Extract unique class labels from y_train (or you can use y_test)\n",
        "class_labels = np.unique(y_train)\n",
        "\n",
        "# Step 7: Plot the confusion matrix as a heatmap\n",
        "plt.figure(figsize=(10, 8))\n",
        "sns.heatmap(conf_matrix, annot=True, fmt='d', cmap='Blues',\n",
        "            xticklabels=class_labels, yticklabels=class_labels)\n",
        "\n",
        "# Add labels and title\n",
        "plt.xlabel('Predicted')\n",
        "plt.ylabel('Actual')\n",
        "plt.title('Confusion Matrix')\n",
        "plt.show()\n",
        "\n",
        "\n"
      ],
      "metadata": {
        "id": "WyZqrtEO-dgm",
        "colab": {
          "base_uri": "https://localhost:8080/",
          "height": 389
        },
        "outputId": "d309e4da-fb2c-425d-f2f9-88cdea160bbf"
      },
      "execution_count": null,
      "outputs": [
        {
          "output_type": "error",
          "ename": "ValueError",
          "evalue": "could not convert string to float: \"I've been quite itchy recently, and I have rashy patches all over my skin. There are also certain regions that are darker in colour than the rest of my skin, and I've got some firm lumps.\"",
          "traceback": [
            "\u001b[0;31m---------------------------------------------------------------------------\u001b[0m",
            "\u001b[0;31mValueError\u001b[0m                                Traceback (most recent call last)",
            "\u001b[0;32m<ipython-input-14-315d89a975b1>\u001b[0m in \u001b[0;36m<cell line: 13>\u001b[0;34m()\u001b[0m\n\u001b[1;32m     11\u001b[0m \u001b[0;31m# Step 2: Train the KNN model\u001b[0m\u001b[0;34m\u001b[0m\u001b[0;34m\u001b[0m\u001b[0m\n\u001b[1;32m     12\u001b[0m \u001b[0mknn_model\u001b[0m \u001b[0;34m=\u001b[0m \u001b[0mKNeighborsClassifier\u001b[0m\u001b[0;34m(\u001b[0m\u001b[0mn_neighbors\u001b[0m\u001b[0;34m=\u001b[0m\u001b[0;36m5\u001b[0m\u001b[0;34m)\u001b[0m\u001b[0;34m\u001b[0m\u001b[0;34m\u001b[0m\u001b[0m\n\u001b[0;32m---> 13\u001b[0;31m \u001b[0mknn_model\u001b[0m\u001b[0;34m.\u001b[0m\u001b[0mfit\u001b[0m\u001b[0;34m(\u001b[0m\u001b[0mX_train\u001b[0m\u001b[0;34m,\u001b[0m \u001b[0my_train\u001b[0m\u001b[0;34m)\u001b[0m\u001b[0;34m\u001b[0m\u001b[0;34m\u001b[0m\u001b[0m\n\u001b[0m\u001b[1;32m     14\u001b[0m \u001b[0;34m\u001b[0m\u001b[0m\n\u001b[1;32m     15\u001b[0m \u001b[0;31m# Step 3: Make predictions on the test data\u001b[0m\u001b[0;34m\u001b[0m\u001b[0;34m\u001b[0m\u001b[0m\n",
            "\u001b[0;32m/usr/local/lib/python3.10/dist-packages/sklearn/base.py\u001b[0m in \u001b[0;36mwrapper\u001b[0;34m(estimator, *args, **kwargs)\u001b[0m\n\u001b[1;32m   1471\u001b[0m                 )\n\u001b[1;32m   1472\u001b[0m             ):\n\u001b[0;32m-> 1473\u001b[0;31m                 \u001b[0;32mreturn\u001b[0m \u001b[0mfit_method\u001b[0m\u001b[0;34m(\u001b[0m\u001b[0mestimator\u001b[0m\u001b[0;34m,\u001b[0m \u001b[0;34m*\u001b[0m\u001b[0margs\u001b[0m\u001b[0;34m,\u001b[0m \u001b[0;34m**\u001b[0m\u001b[0mkwargs\u001b[0m\u001b[0;34m)\u001b[0m\u001b[0;34m\u001b[0m\u001b[0;34m\u001b[0m\u001b[0m\n\u001b[0m\u001b[1;32m   1474\u001b[0m \u001b[0;34m\u001b[0m\u001b[0m\n\u001b[1;32m   1475\u001b[0m         \u001b[0;32mreturn\u001b[0m \u001b[0mwrapper\u001b[0m\u001b[0;34m\u001b[0m\u001b[0;34m\u001b[0m\u001b[0m\n",
            "\u001b[0;32m/usr/local/lib/python3.10/dist-packages/sklearn/neighbors/_classification.py\u001b[0m in \u001b[0;36mfit\u001b[0;34m(self, X, y)\u001b[0m\n\u001b[1;32m    236\u001b[0m             \u001b[0mThe\u001b[0m \u001b[0mfitted\u001b[0m \u001b[0mk\u001b[0m\u001b[0;34m-\u001b[0m\u001b[0mnearest\u001b[0m \u001b[0mneighbors\u001b[0m \u001b[0mclassifier\u001b[0m\u001b[0;34m.\u001b[0m\u001b[0;34m\u001b[0m\u001b[0;34m\u001b[0m\u001b[0m\n\u001b[1;32m    237\u001b[0m         \"\"\"\n\u001b[0;32m--> 238\u001b[0;31m         \u001b[0;32mreturn\u001b[0m \u001b[0mself\u001b[0m\u001b[0;34m.\u001b[0m\u001b[0m_fit\u001b[0m\u001b[0;34m(\u001b[0m\u001b[0mX\u001b[0m\u001b[0;34m,\u001b[0m \u001b[0my\u001b[0m\u001b[0;34m)\u001b[0m\u001b[0;34m\u001b[0m\u001b[0;34m\u001b[0m\u001b[0m\n\u001b[0m\u001b[1;32m    239\u001b[0m \u001b[0;34m\u001b[0m\u001b[0m\n\u001b[1;32m    240\u001b[0m     \u001b[0;32mdef\u001b[0m \u001b[0mpredict\u001b[0m\u001b[0;34m(\u001b[0m\u001b[0mself\u001b[0m\u001b[0;34m,\u001b[0m \u001b[0mX\u001b[0m\u001b[0;34m)\u001b[0m\u001b[0;34m:\u001b[0m\u001b[0;34m\u001b[0m\u001b[0;34m\u001b[0m\u001b[0m\n",
            "\u001b[0;32m/usr/local/lib/python3.10/dist-packages/sklearn/neighbors/_base.py\u001b[0m in \u001b[0;36m_fit\u001b[0;34m(self, X, y)\u001b[0m\n\u001b[1;32m    473\u001b[0m         \u001b[0;32mif\u001b[0m \u001b[0mself\u001b[0m\u001b[0;34m.\u001b[0m\u001b[0m_get_tags\u001b[0m\u001b[0;34m(\u001b[0m\u001b[0;34m)\u001b[0m\u001b[0;34m[\u001b[0m\u001b[0;34m\"requires_y\"\u001b[0m\u001b[0;34m]\u001b[0m\u001b[0;34m:\u001b[0m\u001b[0;34m\u001b[0m\u001b[0;34m\u001b[0m\u001b[0m\n\u001b[1;32m    474\u001b[0m             \u001b[0;32mif\u001b[0m \u001b[0;32mnot\u001b[0m \u001b[0misinstance\u001b[0m\u001b[0;34m(\u001b[0m\u001b[0mX\u001b[0m\u001b[0;34m,\u001b[0m \u001b[0;34m(\u001b[0m\u001b[0mKDTree\u001b[0m\u001b[0;34m,\u001b[0m \u001b[0mBallTree\u001b[0m\u001b[0;34m,\u001b[0m \u001b[0mNeighborsBase\u001b[0m\u001b[0;34m)\u001b[0m\u001b[0;34m)\u001b[0m\u001b[0;34m:\u001b[0m\u001b[0;34m\u001b[0m\u001b[0;34m\u001b[0m\u001b[0m\n\u001b[0;32m--> 475\u001b[0;31m                 X, y = self._validate_data(\n\u001b[0m\u001b[1;32m    476\u001b[0m                     \u001b[0mX\u001b[0m\u001b[0;34m,\u001b[0m \u001b[0my\u001b[0m\u001b[0;34m,\u001b[0m \u001b[0maccept_sparse\u001b[0m\u001b[0;34m=\u001b[0m\u001b[0;34m\"csr\"\u001b[0m\u001b[0;34m,\u001b[0m \u001b[0mmulti_output\u001b[0m\u001b[0;34m=\u001b[0m\u001b[0;32mTrue\u001b[0m\u001b[0;34m,\u001b[0m \u001b[0morder\u001b[0m\u001b[0;34m=\u001b[0m\u001b[0;34m\"C\"\u001b[0m\u001b[0;34m\u001b[0m\u001b[0;34m\u001b[0m\u001b[0m\n\u001b[1;32m    477\u001b[0m                 )\n",
            "\u001b[0;32m/usr/local/lib/python3.10/dist-packages/sklearn/base.py\u001b[0m in \u001b[0;36m_validate_data\u001b[0;34m(self, X, y, reset, validate_separately, cast_to_ndarray, **check_params)\u001b[0m\n\u001b[1;32m    648\u001b[0m                 \u001b[0my\u001b[0m \u001b[0;34m=\u001b[0m \u001b[0mcheck_array\u001b[0m\u001b[0;34m(\u001b[0m\u001b[0my\u001b[0m\u001b[0;34m,\u001b[0m \u001b[0minput_name\u001b[0m\u001b[0;34m=\u001b[0m\u001b[0;34m\"y\"\u001b[0m\u001b[0;34m,\u001b[0m \u001b[0;34m**\u001b[0m\u001b[0mcheck_y_params\u001b[0m\u001b[0;34m)\u001b[0m\u001b[0;34m\u001b[0m\u001b[0;34m\u001b[0m\u001b[0m\n\u001b[1;32m    649\u001b[0m             \u001b[0;32melse\u001b[0m\u001b[0;34m:\u001b[0m\u001b[0;34m\u001b[0m\u001b[0;34m\u001b[0m\u001b[0m\n\u001b[0;32m--> 650\u001b[0;31m                 \u001b[0mX\u001b[0m\u001b[0;34m,\u001b[0m \u001b[0my\u001b[0m \u001b[0;34m=\u001b[0m \u001b[0mcheck_X_y\u001b[0m\u001b[0;34m(\u001b[0m\u001b[0mX\u001b[0m\u001b[0;34m,\u001b[0m \u001b[0my\u001b[0m\u001b[0;34m,\u001b[0m \u001b[0;34m**\u001b[0m\u001b[0mcheck_params\u001b[0m\u001b[0;34m)\u001b[0m\u001b[0;34m\u001b[0m\u001b[0;34m\u001b[0m\u001b[0m\n\u001b[0m\u001b[1;32m    651\u001b[0m             \u001b[0mout\u001b[0m \u001b[0;34m=\u001b[0m \u001b[0mX\u001b[0m\u001b[0;34m,\u001b[0m \u001b[0my\u001b[0m\u001b[0;34m\u001b[0m\u001b[0;34m\u001b[0m\u001b[0m\n\u001b[1;32m    652\u001b[0m \u001b[0;34m\u001b[0m\u001b[0m\n",
            "\u001b[0;32m/usr/local/lib/python3.10/dist-packages/sklearn/utils/validation.py\u001b[0m in \u001b[0;36mcheck_X_y\u001b[0;34m(X, y, accept_sparse, accept_large_sparse, dtype, order, copy, force_writeable, force_all_finite, ensure_2d, allow_nd, multi_output, ensure_min_samples, ensure_min_features, y_numeric, estimator)\u001b[0m\n\u001b[1;32m   1299\u001b[0m         )\n\u001b[1;32m   1300\u001b[0m \u001b[0;34m\u001b[0m\u001b[0m\n\u001b[0;32m-> 1301\u001b[0;31m     X = check_array(\n\u001b[0m\u001b[1;32m   1302\u001b[0m         \u001b[0mX\u001b[0m\u001b[0;34m,\u001b[0m\u001b[0;34m\u001b[0m\u001b[0;34m\u001b[0m\u001b[0m\n\u001b[1;32m   1303\u001b[0m         \u001b[0maccept_sparse\u001b[0m\u001b[0;34m=\u001b[0m\u001b[0maccept_sparse\u001b[0m\u001b[0;34m,\u001b[0m\u001b[0;34m\u001b[0m\u001b[0;34m\u001b[0m\u001b[0m\n",
            "\u001b[0;32m/usr/local/lib/python3.10/dist-packages/sklearn/utils/validation.py\u001b[0m in \u001b[0;36mcheck_array\u001b[0;34m(array, accept_sparse, accept_large_sparse, dtype, order, copy, force_writeable, force_all_finite, ensure_2d, allow_nd, ensure_min_samples, ensure_min_features, estimator, input_name)\u001b[0m\n\u001b[1;32m   1010\u001b[0m                     \u001b[0marray\u001b[0m \u001b[0;34m=\u001b[0m \u001b[0mxp\u001b[0m\u001b[0;34m.\u001b[0m\u001b[0mastype\u001b[0m\u001b[0;34m(\u001b[0m\u001b[0marray\u001b[0m\u001b[0;34m,\u001b[0m \u001b[0mdtype\u001b[0m\u001b[0;34m,\u001b[0m \u001b[0mcopy\u001b[0m\u001b[0;34m=\u001b[0m\u001b[0;32mFalse\u001b[0m\u001b[0;34m)\u001b[0m\u001b[0;34m\u001b[0m\u001b[0;34m\u001b[0m\u001b[0m\n\u001b[1;32m   1011\u001b[0m                 \u001b[0;32melse\u001b[0m\u001b[0;34m:\u001b[0m\u001b[0;34m\u001b[0m\u001b[0;34m\u001b[0m\u001b[0m\n\u001b[0;32m-> 1012\u001b[0;31m                     \u001b[0marray\u001b[0m \u001b[0;34m=\u001b[0m \u001b[0m_asarray_with_order\u001b[0m\u001b[0;34m(\u001b[0m\u001b[0marray\u001b[0m\u001b[0;34m,\u001b[0m \u001b[0morder\u001b[0m\u001b[0;34m=\u001b[0m\u001b[0morder\u001b[0m\u001b[0;34m,\u001b[0m \u001b[0mdtype\u001b[0m\u001b[0;34m=\u001b[0m\u001b[0mdtype\u001b[0m\u001b[0;34m,\u001b[0m \u001b[0mxp\u001b[0m\u001b[0;34m=\u001b[0m\u001b[0mxp\u001b[0m\u001b[0;34m)\u001b[0m\u001b[0;34m\u001b[0m\u001b[0;34m\u001b[0m\u001b[0m\n\u001b[0m\u001b[1;32m   1013\u001b[0m             \u001b[0;32mexcept\u001b[0m \u001b[0mComplexWarning\u001b[0m \u001b[0;32mas\u001b[0m \u001b[0mcomplex_warning\u001b[0m\u001b[0;34m:\u001b[0m\u001b[0;34m\u001b[0m\u001b[0;34m\u001b[0m\u001b[0m\n\u001b[1;32m   1014\u001b[0m                 raise ValueError(\n",
            "\u001b[0;32m/usr/local/lib/python3.10/dist-packages/sklearn/utils/_array_api.py\u001b[0m in \u001b[0;36m_asarray_with_order\u001b[0;34m(array, dtype, order, copy, xp, device)\u001b[0m\n\u001b[1;32m    743\u001b[0m             \u001b[0marray\u001b[0m \u001b[0;34m=\u001b[0m \u001b[0mnumpy\u001b[0m\u001b[0;34m.\u001b[0m\u001b[0marray\u001b[0m\u001b[0;34m(\u001b[0m\u001b[0marray\u001b[0m\u001b[0;34m,\u001b[0m \u001b[0morder\u001b[0m\u001b[0;34m=\u001b[0m\u001b[0morder\u001b[0m\u001b[0;34m,\u001b[0m \u001b[0mdtype\u001b[0m\u001b[0;34m=\u001b[0m\u001b[0mdtype\u001b[0m\u001b[0;34m)\u001b[0m\u001b[0;34m\u001b[0m\u001b[0;34m\u001b[0m\u001b[0m\n\u001b[1;32m    744\u001b[0m         \u001b[0;32melse\u001b[0m\u001b[0;34m:\u001b[0m\u001b[0;34m\u001b[0m\u001b[0;34m\u001b[0m\u001b[0m\n\u001b[0;32m--> 745\u001b[0;31m             \u001b[0marray\u001b[0m \u001b[0;34m=\u001b[0m \u001b[0mnumpy\u001b[0m\u001b[0;34m.\u001b[0m\u001b[0masarray\u001b[0m\u001b[0;34m(\u001b[0m\u001b[0marray\u001b[0m\u001b[0;34m,\u001b[0m \u001b[0morder\u001b[0m\u001b[0;34m=\u001b[0m\u001b[0morder\u001b[0m\u001b[0;34m,\u001b[0m \u001b[0mdtype\u001b[0m\u001b[0;34m=\u001b[0m\u001b[0mdtype\u001b[0m\u001b[0;34m)\u001b[0m\u001b[0;34m\u001b[0m\u001b[0;34m\u001b[0m\u001b[0m\n\u001b[0m\u001b[1;32m    746\u001b[0m \u001b[0;34m\u001b[0m\u001b[0m\n\u001b[1;32m    747\u001b[0m         \u001b[0;31m# At this point array is a NumPy ndarray. We convert it to an array\u001b[0m\u001b[0;34m\u001b[0m\u001b[0;34m\u001b[0m\u001b[0m\n",
            "\u001b[0;31mValueError\u001b[0m: could not convert string to float: \"I've been quite itchy recently, and I have rashy patches all over my skin. There are also certain regions that are darker in colour than the rest of my skin, and I've got some firm lumps.\""
          ]
        }
      ]
    },
    {
      "cell_type": "markdown",
      "source": [
        "# Bert"
      ],
      "metadata": {
        "id": "o_bu2EqphFwt"
      }
    },
    {
      "cell_type": "code",
      "source": [
        "!pip install datasets\n"
      ],
      "metadata": {
        "colab": {
          "base_uri": "https://localhost:8080/"
        },
        "id": "K20xGSM1hEs4",
        "outputId": "4e8900f3-b688-4bd1-a0d1-d84f873a6994"
      },
      "execution_count": null,
      "outputs": [
        {
          "output_type": "stream",
          "name": "stdout",
          "text": [
            "Collecting datasets\n",
            "  Downloading datasets-3.0.2-py3-none-any.whl.metadata (20 kB)\n",
            "Requirement already satisfied: filelock in /usr/local/lib/python3.10/dist-packages (from datasets) (3.16.1)\n",
            "Requirement already satisfied: numpy>=1.17 in /usr/local/lib/python3.10/dist-packages (from datasets) (1.26.4)\n",
            "Requirement already satisfied: pyarrow>=15.0.0 in /usr/local/lib/python3.10/dist-packages (from datasets) (16.1.0)\n",
            "Collecting dill<0.3.9,>=0.3.0 (from datasets)\n",
            "  Downloading dill-0.3.8-py3-none-any.whl.metadata (10 kB)\n",
            "Requirement already satisfied: pandas in /usr/local/lib/python3.10/dist-packages (from datasets) (2.2.2)\n",
            "Requirement already satisfied: requests>=2.32.2 in /usr/local/lib/python3.10/dist-packages (from datasets) (2.32.3)\n",
            "Requirement already satisfied: tqdm>=4.66.3 in /usr/local/lib/python3.10/dist-packages (from datasets) (4.66.5)\n",
            "Collecting xxhash (from datasets)\n",
            "  Downloading xxhash-3.5.0-cp310-cp310-manylinux_2_17_x86_64.manylinux2014_x86_64.whl.metadata (12 kB)\n",
            "Collecting multiprocess<0.70.17 (from datasets)\n",
            "  Downloading multiprocess-0.70.16-py310-none-any.whl.metadata (7.2 kB)\n",
            "Requirement already satisfied: fsspec<=2024.9.0,>=2023.1.0 in /usr/local/lib/python3.10/dist-packages (from fsspec[http]<=2024.9.0,>=2023.1.0->datasets) (2024.6.1)\n",
            "Requirement already satisfied: aiohttp in /usr/local/lib/python3.10/dist-packages (from datasets) (3.10.10)\n",
            "Requirement already satisfied: huggingface-hub>=0.23.0 in /usr/local/lib/python3.10/dist-packages (from datasets) (0.24.7)\n",
            "Requirement already satisfied: packaging in /usr/local/lib/python3.10/dist-packages (from datasets) (24.1)\n",
            "Requirement already satisfied: pyyaml>=5.1 in /usr/local/lib/python3.10/dist-packages (from datasets) (6.0.2)\n",
            "Requirement already satisfied: aiohappyeyeballs>=2.3.0 in /usr/local/lib/python3.10/dist-packages (from aiohttp->datasets) (2.4.3)\n",
            "Requirement already satisfied: aiosignal>=1.1.2 in /usr/local/lib/python3.10/dist-packages (from aiohttp->datasets) (1.3.1)\n",
            "Requirement already satisfied: attrs>=17.3.0 in /usr/local/lib/python3.10/dist-packages (from aiohttp->datasets) (24.2.0)\n",
            "Requirement already satisfied: frozenlist>=1.1.1 in /usr/local/lib/python3.10/dist-packages (from aiohttp->datasets) (1.4.1)\n",
            "Requirement already satisfied: multidict<7.0,>=4.5 in /usr/local/lib/python3.10/dist-packages (from aiohttp->datasets) (6.1.0)\n",
            "Requirement already satisfied: yarl<2.0,>=1.12.0 in /usr/local/lib/python3.10/dist-packages (from aiohttp->datasets) (1.16.0)\n",
            "Requirement already satisfied: async-timeout<5.0,>=4.0 in /usr/local/lib/python3.10/dist-packages (from aiohttp->datasets) (4.0.3)\n",
            "Requirement already satisfied: typing-extensions>=3.7.4.3 in /usr/local/lib/python3.10/dist-packages (from huggingface-hub>=0.23.0->datasets) (4.12.2)\n",
            "Requirement already satisfied: charset-normalizer<4,>=2 in /usr/local/lib/python3.10/dist-packages (from requests>=2.32.2->datasets) (3.4.0)\n",
            "Requirement already satisfied: idna<4,>=2.5 in /usr/local/lib/python3.10/dist-packages (from requests>=2.32.2->datasets) (3.10)\n",
            "Requirement already satisfied: urllib3<3,>=1.21.1 in /usr/local/lib/python3.10/dist-packages (from requests>=2.32.2->datasets) (2.2.3)\n",
            "Requirement already satisfied: certifi>=2017.4.17 in /usr/local/lib/python3.10/dist-packages (from requests>=2.32.2->datasets) (2024.8.30)\n",
            "Requirement already satisfied: python-dateutil>=2.8.2 in /usr/local/lib/python3.10/dist-packages (from pandas->datasets) (2.8.2)\n",
            "Requirement already satisfied: pytz>=2020.1 in /usr/local/lib/python3.10/dist-packages (from pandas->datasets) (2024.2)\n",
            "Requirement already satisfied: tzdata>=2022.7 in /usr/local/lib/python3.10/dist-packages (from pandas->datasets) (2024.2)\n",
            "Requirement already satisfied: six>=1.5 in /usr/local/lib/python3.10/dist-packages (from python-dateutil>=2.8.2->pandas->datasets) (1.16.0)\n",
            "Requirement already satisfied: propcache>=0.2.0 in /usr/local/lib/python3.10/dist-packages (from yarl<2.0,>=1.12.0->aiohttp->datasets) (0.2.0)\n",
            "Downloading datasets-3.0.2-py3-none-any.whl (472 kB)\n",
            "\u001b[2K   \u001b[90m━━━━━━━━━━━━━━━━━━━━━━━━━━━━━━━━━━━━━━━━\u001b[0m \u001b[32m472.7/472.7 kB\u001b[0m \u001b[31m10.1 MB/s\u001b[0m eta \u001b[36m0:00:00\u001b[0m\n",
            "\u001b[?25hDownloading dill-0.3.8-py3-none-any.whl (116 kB)\n",
            "\u001b[2K   \u001b[90m━━━━━━━━━━━━━━━━━━━━━━━━━━━━━━━━━━━━━━━━\u001b[0m \u001b[32m116.3/116.3 kB\u001b[0m \u001b[31m9.3 MB/s\u001b[0m eta \u001b[36m0:00:00\u001b[0m\n",
            "\u001b[?25hDownloading multiprocess-0.70.16-py310-none-any.whl (134 kB)\n",
            "\u001b[2K   \u001b[90m━━━━━━━━━━━━━━━━━━━━━━━━━━━━━━━━━━━━━━━━\u001b[0m \u001b[32m134.8/134.8 kB\u001b[0m \u001b[31m10.6 MB/s\u001b[0m eta \u001b[36m0:00:00\u001b[0m\n",
            "\u001b[?25hDownloading xxhash-3.5.0-cp310-cp310-manylinux_2_17_x86_64.manylinux2014_x86_64.whl (194 kB)\n",
            "\u001b[2K   \u001b[90m━━━━━━━━━━━━━━━━━━━━━━━━━━━━━━━━━━━━━━━━\u001b[0m \u001b[32m194.1/194.1 kB\u001b[0m \u001b[31m16.2 MB/s\u001b[0m eta \u001b[36m0:00:00\u001b[0m\n",
            "\u001b[?25hInstalling collected packages: xxhash, dill, multiprocess, datasets\n",
            "Successfully installed datasets-3.0.2 dill-0.3.8 multiprocess-0.70.16 xxhash-3.5.0\n"
          ]
        }
      ]
    },
    {
      "cell_type": "code",
      "source": [
        "# Step 1: Mount Google Drive and Load Data\n",
        "from google.colab import drive\n",
        "import pandas as pd\n",
        "import numpy as np\n",
        "\n",
        "drive.mount('/content/drive')\n",
        "\n",
        "# Load the CSV file\n",
        "data = pd.read_csv('/content/drive/MyDrive/Symptom2Disease.csv', delimiter=';')\n",
        "\n",
        "# Step 2: Explore the dataset\n",
        "print(data.head())  # Check the first few rows of the dataset\n",
        "print(data.columns)  # Check column names\n",
        "\n",
        "# Step 3: Extract features and labels\n",
        "# Assuming 'symptoms' and 'disease' are the relevant columns\n",
        "X = data['text'].values  # Features (text data)\n",
        "y = data['label'].values  # Labels (classes)\n",
        "\n",
        "# At this point, X contains your text (symptoms), and y contains the labels (disease).\n",
        "# We will now move on to using BERT for classification.\n",
        "\n",
        "from transformers import BertTokenizer, BertForSequenceClassification, Trainer, TrainingArguments\n",
        "from datasets import Dataset\n",
        "import torch\n",
        "from sklearn.model_selection import train_test_split\n",
        "from sklearn.preprocessing import LabelEncoder\n",
        "\n",
        "# Step 4: Encode labels (if they are categorical)\n",
        "label_encoder = LabelEncoder()\n",
        "y_encoded = label_encoder.fit_transform(y)\n",
        "\n",
        "# Split data into training and testing sets\n",
        "X_train, X_test, y_train, y_test = train_test_split(X, y_encoded, test_size=0.2, random_state=42)\n",
        "\n",
        "# Step 5: Load BERT tokenizer\n",
        "tokenizer = BertTokenizer.from_pretrained('bert-base-uncased')\n",
        "\n",
        "# Tokenize the text data\n",
        "train_encodings = tokenizer(list(X_train), padding=True, truncation=True, max_length=128, return_tensors=\"pt\")\n",
        "test_encodings = tokenizer(list(X_test), padding=True, truncation=True, max_length=128, return_tensors=\"pt\")\n",
        "\n",
        "# Convert labels to torch tensors\n",
        "train_labels = torch.tensor(y_train)\n",
        "test_labels = torch.tensor(y_test)\n",
        "\n",
        "# Step 6: Prepare the dataset for Hugging Face's Trainer\n",
        "train_dataset = Dataset.from_dict({\n",
        "    'input_ids': train_encodings['input_ids'],\n",
        "    'attention_mask': train_encodings['attention_mask'],\n",
        "    'labels': train_labels\n",
        "})\n",
        "\n",
        "test_dataset = Dataset.from_dict({\n",
        "    'input_ids': test_encodings['input_ids'],\n",
        "    'attention_mask': test_encodings['attention_mask'],\n",
        "    'labels': test_labels\n",
        "})\n",
        "\n",
        "# Step 7: Load pre-trained BERT for sequence classification\n",
        "model = BertForSequenceClassification.from_pretrained('bert-base-uncased', num_labels=len(label_encoder.classes_))\n",
        "device = torch.device('cuda' if torch.cuda.is_available() else 'cpu')\n",
        "model.to(device)\n",
        "\n",
        "# Step 8: Define training arguments\n",
        "training_args = TrainingArguments(\n",
        "    output_dir='./results',\n",
        "    evaluation_strategy=\"epoch\",\n",
        "    learning_rate=2e-5,\n",
        "    per_device_train_batch_size=16,\n",
        "    per_device_eval_batch_size=16,\n",
        "    num_train_epochs=3,\n",
        "    weight_decay=0.01,\n",
        "    logging_dir='./logs',\n",
        "    logging_steps=10,\n",
        ")\n",
        "\n",
        "# Step 9: Train the model using Trainer API\n",
        "trainer = Trainer(\n",
        "    model=model,\n",
        "    args=training_args,\n",
        "    train_dataset=train_dataset,\n",
        "    eval_dataset=test_dataset\n",
        ")\n",
        "\n",
        "trainer.train()\n",
        "\n",
        "# Step 10: Evaluate the model\n",
        "predictions = trainer.predict(test_dataset)\n",
        "y_pred = np.argmax(predictions.predictions, axis=1)\n",
        "\n",
        "# Calculate accuracy and classification report\n",
        "from sklearn.metrics import accuracy_score, classification_report, confusion_matrix\n",
        "bert_accuracy = accuracy_score(y_test, y_pred)\n",
        "print(f\"BERT Accuracy: {bert_accuracy:.2f}\")\n",
        "print(classification_report(y_test, y_pred, target_names=label_encoder.classes_))\n",
        "\n",
        "# Step 11: Create confusion matrix\n",
        "conf_matrix = confusion_matrix(y_test, y_pred)\n",
        "class_labels = label_encoder.classes_\n",
        "plt.figure(figsize=(10, 8))\n",
        "sns.heatmap(conf_matrix, annot=True, fmt='d', cmap='Blues', xticklabels=class_labels, yticklabels=class_labels)\n",
        "\n",
        "plt.xlabel('Predicted')\n",
        "plt.ylabel('Actual')\n",
        "plt.title('Confusion Matrix')\n",
        "plt.show()\n"
      ],
      "metadata": {
        "colab": {
          "base_uri": "https://localhost:8080/",
          "height": 1000
        },
        "id": "yhvMwvmGfGMx",
        "outputId": "1099a07d-cb5c-405c-d28c-6fe4603de355"
      },
      "execution_count": null,
      "outputs": [
        {
          "output_type": "stream",
          "name": "stdout",
          "text": [
            "Drive already mounted at /content/drive; to attempt to forcibly remount, call drive.mount(\"/content/drive\", force_remount=True).\n",
            "       label                                               text\n",
            "0  Psoriasis  I have been experiencing a skin rash on my arm...\n",
            "1  Psoriasis  My skin has been peeling, especially on my kne...\n",
            "2  Psoriasis  I have been experiencing joint pain in my fing...\n",
            "3  Psoriasis  There is a silver like dusting on my skin, esp...\n",
            "4  Psoriasis  My nails have small dents or pits in them, and...\n",
            "Index(['label', 'text'], dtype='object')\n"
          ]
        },
        {
          "output_type": "stream",
          "name": "stderr",
          "text": [
            "/usr/local/lib/python3.10/dist-packages/transformers/tokenization_utils_base.py:1601: FutureWarning: `clean_up_tokenization_spaces` was not set. It will be set to `True` by default. This behavior will be depracted in transformers v4.45, and will be then set to `False` by default. For more details check this issue: https://github.com/huggingface/transformers/issues/31884\n",
            "  warnings.warn(\n",
            "Some weights of BertForSequenceClassification were not initialized from the model checkpoint at bert-base-uncased and are newly initialized: ['classifier.bias', 'classifier.weight']\n",
            "You should probably TRAIN this model on a down-stream task to be able to use it for predictions and inference.\n",
            "/usr/local/lib/python3.10/dist-packages/transformers/training_args.py:1525: FutureWarning: `evaluation_strategy` is deprecated and will be removed in version 4.46 of 🤗 Transformers. Use `eval_strategy` instead\n",
            "  warnings.warn(\n",
            "Using the `WANDB_DISABLED` environment variable is deprecated and will be removed in v5. Use the --report_to flag to control the integrations used for logging result (for instance --report_to none).\n"
          ]
        },
        {
          "output_type": "display_data",
          "data": {
            "text/plain": [
              "<IPython.core.display.HTML object>"
            ],
            "text/html": [
              "\n",
              "    <div>\n",
              "      \n",
              "      <progress value='180' max='180' style='width:300px; height:20px; vertical-align: middle;'></progress>\n",
              "      [180/180 00:50, Epoch 3/3]\n",
              "    </div>\n",
              "    <table border=\"1\" class=\"dataframe\">\n",
              "  <thead>\n",
              " <tr style=\"text-align: left;\">\n",
              "      <th>Epoch</th>\n",
              "      <th>Training Loss</th>\n",
              "      <th>Validation Loss</th>\n",
              "    </tr>\n",
              "  </thead>\n",
              "  <tbody>\n",
              "    <tr>\n",
              "      <td>1</td>\n",
              "      <td>2.909700</td>\n",
              "      <td>2.811907</td>\n",
              "    </tr>\n",
              "    <tr>\n",
              "      <td>2</td>\n",
              "      <td>2.460700</td>\n",
              "      <td>2.320306</td>\n",
              "    </tr>\n",
              "    <tr>\n",
              "      <td>3</td>\n",
              "      <td>2.164800</td>\n",
              "      <td>2.131089</td>\n",
              "    </tr>\n",
              "  </tbody>\n",
              "</table><p>"
            ]
          },
          "metadata": {}
        },
        {
          "output_type": "display_data",
          "data": {
            "text/plain": [
              "<IPython.core.display.HTML object>"
            ],
            "text/html": []
          },
          "metadata": {}
        },
        {
          "output_type": "stream",
          "name": "stdout",
          "text": [
            "BERT Accuracy: 0.76\n",
            "                                 precision    recall  f1-score   support\n",
            "\n",
            "                           Acne       1.00      1.00      1.00         7\n",
            "                      Arthritis       1.00      1.00      1.00        10\n",
            "               Bronchial Asthma       0.71      0.91      0.80        11\n",
            "           Cervical spondylosis       1.00      1.00      1.00         7\n",
            "                    Chicken pox       0.77      0.83      0.80        12\n",
            "                    Common Cold       1.00      0.17      0.29        12\n",
            "                         Dengue       1.00      0.17      0.29        12\n",
            "          Dimorphic Hemorrhoids       0.64      1.00      0.78         7\n",
            "               Fungal infection       0.87      1.00      0.93        13\n",
            "                   Hypertension       0.91      1.00      0.95        10\n",
            "                       Impetigo       0.65      1.00      0.79        11\n",
            "                       Jaundice       0.85      1.00      0.92        11\n",
            "                        Malaria       1.00      1.00      1.00        11\n",
            "                       Migraine       1.00      0.90      0.95        10\n",
            "                      Pneumonia       0.83      0.91      0.87        11\n",
            "                      Psoriasis       0.67      0.67      0.67         6\n",
            "                        Typhoid       0.41      1.00      0.58         9\n",
            "                 Varicose Veins       1.00      0.83      0.91        12\n",
            "                        allergy       0.67      0.50      0.57        12\n",
            "                       diabetes       0.37      0.88      0.52         8\n",
            "                  drug reaction       1.00      0.20      0.33         5\n",
            "gastroesophageal reflux disease       0.60      0.27      0.38        11\n",
            "           peptic ulcer disease       0.80      0.73      0.76        11\n",
            "        urinary tract infection       1.00      0.36      0.53        11\n",
            "\n",
            "                       accuracy                           0.76       240\n",
            "                      macro avg       0.82      0.76      0.73       240\n",
            "                   weighted avg       0.83      0.76      0.73       240\n",
            "\n"
          ]
        },
        {
          "output_type": "display_data",
          "data": {
            "text/plain": [
              "<Figure size 1000x800 with 2 Axes>"
            ],
            "image/png": "[encoded data removed]"
          },
          "metadata": {}
        }
      ]
    },
    {
      "cell_type": "code",
      "source": [
        "# Step 8: Predict the disease for a new symptom\n",
        "symptom = \"My nails have small dents or pits in them, and they often feel inflammatory and tender to the touch. Even there are minor rashes on my arms.\"  # Input new symptom here\n",
        "preprocessed_symptom = preprocess_text(symptom)  # Preprocess the symptom text\n",
        "\n",
        "# Transform the preprocessed symptom using the same TF-IDF vectorizer used during training\n",
        "symptom_tfidf = tfidf_vectorizer.transform([preprocessed_symptom])\n",
        "\n",
        "# Use the trained KNN model to predict the disease for the new symptom\n",
        "predicted_disease = knn_model.predict(symptom_tfidf)\n",
        "\n",
        "# Step 9: Output the predicted disease\n",
        "print(f'Predicted Disease: {predicted_disease[0]}')\n"
      ],
      "metadata": {
        "id": "zIOQGVHWBASP",
        "colab": {
          "base_uri": "https://localhost:8080/",
          "height": 371
        },
        "outputId": "ab3650b9-da5e-4728-9909-939d2b3ec410"
      },
      "execution_count": null,
      "outputs": [
        {
          "output_type": "error",
          "ename": "NotFittedError",
          "evalue": "This KNeighborsClassifier instance is not fitted yet. Call 'fit' with appropriate arguments before using this estimator.",
          "traceback": [
            "\u001b[0;31m---------------------------------------------------------------------------\u001b[0m",
            "\u001b[0;31mNotFittedError\u001b[0m                            Traceback (most recent call last)",
            "\u001b[0;32m<ipython-input-16-65d19a26b31d>\u001b[0m in \u001b[0;36m<cell line: 9>\u001b[0;34m()\u001b[0m\n\u001b[1;32m      7\u001b[0m \u001b[0;34m\u001b[0m\u001b[0m\n\u001b[1;32m      8\u001b[0m \u001b[0;31m# Use the trained KNN model to predict the disease for the new symptom\u001b[0m\u001b[0;34m\u001b[0m\u001b[0;34m\u001b[0m\u001b[0m\n\u001b[0;32m----> 9\u001b[0;31m \u001b[0mpredicted_disease\u001b[0m \u001b[0;34m=\u001b[0m \u001b[0mknn_model\u001b[0m\u001b[0;34m.\u001b[0m\u001b[0mpredict\u001b[0m\u001b[0;34m(\u001b[0m\u001b[0msymptom_tfidf\u001b[0m\u001b[0;34m)\u001b[0m\u001b[0;34m\u001b[0m\u001b[0;34m\u001b[0m\u001b[0m\n\u001b[0m\u001b[1;32m     10\u001b[0m \u001b[0;34m\u001b[0m\u001b[0m\n\u001b[1;32m     11\u001b[0m \u001b[0;31m# Step 9: Output the predicted disease\u001b[0m\u001b[0;34m\u001b[0m\u001b[0;34m\u001b[0m\u001b[0m\n",
            "\u001b[0;32m/usr/local/lib/python3.10/dist-packages/sklearn/neighbors/_classification.py\u001b[0m in \u001b[0;36mpredict\u001b[0;34m(self, X)\u001b[0m\n\u001b[1;32m    252\u001b[0m             \u001b[0mClass\u001b[0m \u001b[0mlabels\u001b[0m \u001b[0;32mfor\u001b[0m \u001b[0meach\u001b[0m \u001b[0mdata\u001b[0m \u001b[0msample\u001b[0m\u001b[0;34m.\u001b[0m\u001b[0;34m\u001b[0m\u001b[0;34m\u001b[0m\u001b[0m\n\u001b[1;32m    253\u001b[0m         \"\"\"\n\u001b[0;32m--> 254\u001b[0;31m         \u001b[0mcheck_is_fitted\u001b[0m\u001b[0;34m(\u001b[0m\u001b[0mself\u001b[0m\u001b[0;34m,\u001b[0m \u001b[0;34m\"_fit_method\"\u001b[0m\u001b[0;34m)\u001b[0m\u001b[0;34m\u001b[0m\u001b[0;34m\u001b[0m\u001b[0m\n\u001b[0m\u001b[1;32m    255\u001b[0m         \u001b[0;32mif\u001b[0m \u001b[0mself\u001b[0m\u001b[0;34m.\u001b[0m\u001b[0mweights\u001b[0m \u001b[0;34m==\u001b[0m \u001b[0;34m\"uniform\"\u001b[0m\u001b[0;34m:\u001b[0m\u001b[0;34m\u001b[0m\u001b[0;34m\u001b[0m\u001b[0m\n\u001b[1;32m    256\u001b[0m             if self._fit_method == \"brute\" and ArgKminClassMode.is_usable_for(\n",
            "\u001b[0;32m/usr/local/lib/python3.10/dist-packages/sklearn/utils/validation.py\u001b[0m in \u001b[0;36mcheck_is_fitted\u001b[0;34m(estimator, attributes, msg, all_or_any)\u001b[0m\n\u001b[1;32m   1659\u001b[0m \u001b[0;34m\u001b[0m\u001b[0m\n\u001b[1;32m   1660\u001b[0m     \u001b[0;32mif\u001b[0m \u001b[0;32mnot\u001b[0m \u001b[0m_is_fitted\u001b[0m\u001b[0;34m(\u001b[0m\u001b[0mestimator\u001b[0m\u001b[0;34m,\u001b[0m \u001b[0mattributes\u001b[0m\u001b[0;34m,\u001b[0m \u001b[0mall_or_any\u001b[0m\u001b[0;34m)\u001b[0m\u001b[0;34m:\u001b[0m\u001b[0;34m\u001b[0m\u001b[0;34m\u001b[0m\u001b[0m\n\u001b[0;32m-> 1661\u001b[0;31m         \u001b[0;32mraise\u001b[0m \u001b[0mNotFittedError\u001b[0m\u001b[0;34m(\u001b[0m\u001b[0mmsg\u001b[0m \u001b[0;34m%\u001b[0m \u001b[0;34m{\u001b[0m\u001b[0;34m\"name\"\u001b[0m\u001b[0;34m:\u001b[0m \u001b[0mtype\u001b[0m\u001b[0;34m(\u001b[0m\u001b[0mestimator\u001b[0m\u001b[0;34m)\u001b[0m\u001b[0;34m.\u001b[0m\u001b[0m__name__\u001b[0m\u001b[0;34m}\u001b[0m\u001b[0;34m)\u001b[0m\u001b[0;34m\u001b[0m\u001b[0;34m\u001b[0m\u001b[0m\n\u001b[0m\u001b[1;32m   1662\u001b[0m \u001b[0;34m\u001b[0m\u001b[0m\n\u001b[1;32m   1663\u001b[0m \u001b[0;34m\u001b[0m\u001b[0m\n",
            "\u001b[0;31mNotFittedError\u001b[0m: This KNeighborsClassifier instance is not fitted yet. Call 'fit' with appropriate arguments before using this estimator."
          ]
        }
      ]
    },
    {
      "cell_type": "code",
      "source": [
        "# Step 8: Predict the disease for a new symptom\n",
        "symptom = \"common symptoms of malaria: fever, chills, headache, muscle aches, tiredness, nausea, vomiting, diarrhea, sweats, body aches, and jaundice (yellowing of the skin and whites of the eyes)\"  # Input new symptom here\n",
        "preprocessed_symptom = preprocess_text(symptom)  # Preprocess the symptom text\n",
        "\n",
        "# Transform the preprocessed symptom using the same TF-IDF vectorizer used during training\n",
        "symptom_tfidf = tfidf_vectorizer.transform([preprocessed_symptom])\n",
        "\n",
        "# Use the trained KNN model to predict the disease for the new symptom\n",
        "predicted_disease = knn_model.predict(symptom_tfidf)\n",
        "\n",
        "# Calculate the probability for each class (KNN uses predict_proba for this)\n",
        "predicted_probabilities = knn_model.predict_proba(symptom_tfidf)\n",
        "\n",
        "# Get the probability/confidence for the predicted class\n",
        "confidence = max(predicted_probabilities[0])  # The confidence level for the predicted disease\n",
        "\n",
        "# Step 9: Output the predicted disease and confidence level\n",
        "print(f'Predicted Disease: {predicted_disease[0]}')\n",
        "print(f'Confidence Level: {confidence:.2f}')\n",
        "\n",
        "# Step 10: List all diseases and their associated probabilities\n",
        "disease_classes = knn_model.classes_  # Get the list of all possible disease classes\n",
        "probabilities = predicted_probabilities[0]  # Get the probabilities for the current prediction\n",
        "\n",
        "# Print all diseases with their associated probabilities\n",
        "print(\"\\nOther possible diseases with their confidence levels:\")\n",
        "for disease, prob in zip(disease_classes, probabilities):\n",
        "    print(f\"Disease: {disease}, Confidence Level: {prob:.2f}\")\n",
        "\n"
      ],
      "metadata": {
        "id": "Ci3_WBGtxkg8"
      },
      "execution_count": null,
      "outputs": []
    }
  ],
  "metadata": {
    "colab": {
      "provenance": [],
      "gpuType": "T4"
    },
    "kernelspec": {
      "display_name": "Python 3",
      "name": "python3"
    },
    "language_info": {
      "name": "python"
    },
    "accelerator": "GPU"
  },
  "nbformat": 4,
  "nbformat_minor": 0
}